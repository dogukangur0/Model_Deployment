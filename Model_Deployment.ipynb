{
  "nbformat": 4,
  "nbformat_minor": 0,
  "metadata": {
    "colab": {
      "provenance": [],
      "gpuType": "T4",
      "authorship_tag": "ABX9TyOOVkE5g8pMLkQ/2IpNz1Bg"
    },
    "kernelspec": {
      "name": "python3",
      "display_name": "Python 3"
    },
    "language_info": {
      "name": "python"
    },
    "accelerator": "GPU"
  },
  "cells": [
    {
      "cell_type": "markdown",
      "source": [
        "## 0. Getting Setup"
      ],
      "metadata": {
        "id": "qUTP_aOSf8yY"
      }
    },
    {
      "cell_type": "code",
      "execution_count": 1,
      "metadata": {
        "id": "MAWjtVhQftVn"
      },
      "outputs": [],
      "source": [
        "import torch\n",
        "import torch.nn as nn\n",
        "import torchvision\n",
        "import torchvision.transforms as transforms\n",
        "import matplotlib.pyplot as plt"
      ]
    },
    {
      "cell_type": "code",
      "source": [
        "import matplotlib.pyplot as plt\n",
        "import torch\n",
        "import torchvision\n",
        "\n",
        "from torch import nn\n",
        "from torchvision import transforms\n",
        "\n",
        "try:\n",
        "    from torchinfo import summary\n",
        "except:\n",
        "    print(\"[INFO] Couldn't find torchinfo... installing it.\")\n",
        "    !pip install -q torchinfo\n",
        "    from torchinfo import summary"
      ],
      "metadata": {
        "colab": {
          "base_uri": "https://localhost:8080/"
        },
        "id": "a0t3Gh-lf-zm",
        "outputId": "47febf7b-1e19-4b13-da0a-e912c57a503f"
      },
      "execution_count": 2,
      "outputs": [
        {
          "output_type": "stream",
          "name": "stdout",
          "text": [
            "[INFO] Couldn't find torchinfo... installing it.\n"
          ]
        }
      ]
    },
    {
      "cell_type": "code",
      "source": [
        "device = \"cuda\" if torch.cuda.is_available() else \"cpu\"\n",
        "device"
      ],
      "metadata": {
        "colab": {
          "base_uri": "https://localhost:8080/",
          "height": 36
        },
        "id": "whBOBsLMgAqj",
        "outputId": "d1ec8812-6f40-4f13-811b-a14320b533a6"
      },
      "execution_count": 3,
      "outputs": [
        {
          "output_type": "execute_result",
          "data": {
            "text/plain": [
              "'cuda'"
            ],
            "application/vnd.google.colaboratory.intrinsic+json": {
              "type": "string"
            }
          },
          "metadata": {},
          "execution_count": 3
        }
      ]
    },
    {
      "cell_type": "markdown",
      "source": [
        "## 1. Getting Data"
      ],
      "metadata": {
        "id": "CRr9CrmUgpgJ"
      }
    },
    {
      "cell_type": "code",
      "source": [
        "def download_data(source : str,\n",
        "                  destination : str,\n",
        "                  remove_source: bool = True):\n",
        "  \"\"\"Downloads a zipped dataset from source and unzips to destination.\n",
        "    Args:\n",
        "        source (str): A link to a zipped file containing data.\n",
        "        destination (str): A target directory to unzip data to.\n",
        "        remove_source (bool): Whether to remove the source after downloading and extracting.\n",
        "  \"\"\"\n",
        "  import os\n",
        "  import pathlib\n",
        "  import requests\n",
        "  import zipfile\n",
        "\n",
        "  data_path = pathlib.Path(\"data/\")\n",
        "  image_path = data_path / destination\n",
        "\n",
        "  if image_path.is_dir():\n",
        "    print(f\"[INFO] {image_path} directory exists, skipping download.\")\n",
        "  else:\n",
        "    print(f\"[INFO] Did not find {image_path} directory, creating one...\")\n",
        "    image_path.mkdir(parents = True, exist_ok = True)\n",
        "\n",
        "  target_file = pathlib.Path(source).name\n",
        "  with open(data_path /target_file, \"wb\") as f:\n",
        "    request = requests.get(source)\n",
        "    print(f\"[INFO] Downloading {target_file} from {source}...\")\n",
        "    f.write(request.content)\n",
        "\n",
        "  with zipfile.ZipFile(data_path / target_file, \"r\") as zip_ref:\n",
        "    print(f\"[INFO] Unzipping {target_file} data...\")\n",
        "    zip_ref.extractall(image_path)\n",
        "\n",
        "  if remove_source:\n",
        "            os.remove(data_path / target_file)\n",
        "\n",
        "  return image_path"
      ],
      "metadata": {
        "id": "_cJR8rqdgrFn"
      },
      "execution_count": 4,
      "outputs": []
    },
    {
      "cell_type": "code",
      "source": [
        "data_20_percent_path = download_data(source = \"https://github.com/mrdbourke/pytorch-deep-learning/raw/main/data/pizza_steak_sushi_20_percent.zip\",\n",
        "                                     destination = \"pizza_steak_sushi_20_percent\",\n",
        "                                     )\n",
        "data_20_percent_path"
      ],
      "metadata": {
        "colab": {
          "base_uri": "https://localhost:8080/"
        },
        "id": "3OgBKYR6grdU",
        "outputId": "5b3f3610-7d29-4f44-879e-fb3b183d0a44"
      },
      "execution_count": 5,
      "outputs": [
        {
          "output_type": "stream",
          "name": "stdout",
          "text": [
            "[INFO] Did not find data/pizza_steak_sushi_20_percent directory, creating one...\n",
            "[INFO] Downloading pizza_steak_sushi_20_percent.zip from https://github.com/mrdbourke/pytorch-deep-learning/raw/main/data/pizza_steak_sushi_20_percent.zip...\n",
            "[INFO] Unzipping pizza_steak_sushi_20_percent.zip data...\n"
          ]
        },
        {
          "output_type": "execute_result",
          "data": {
            "text/plain": [
              "PosixPath('data/pizza_steak_sushi_20_percent')"
            ]
          },
          "metadata": {},
          "execution_count": 5
        }
      ]
    },
    {
      "cell_type": "code",
      "source": [
        "train_dir = data_20_percent_path / \"train\"\n",
        "test_dir = data_20_percent_path / \"test\"\n",
        "train_dir, test_dir"
      ],
      "metadata": {
        "colab": {
          "base_uri": "https://localhost:8080/"
        },
        "id": "B9OpEL9mgrat",
        "outputId": "bb3f7a38-38e8-4ca3-f05a-030753a394e4"
      },
      "execution_count": 6,
      "outputs": [
        {
          "output_type": "execute_result",
          "data": {
            "text/plain": [
              "(PosixPath('data/pizza_steak_sushi_20_percent/train'),\n",
              " PosixPath('data/pizza_steak_sushi_20_percent/test'))"
            ]
          },
          "metadata": {},
          "execution_count": 6
        }
      ]
    },
    {
      "cell_type": "markdown",
      "source": [
        "## 2. FoodVision Mini model with EffNetB2"
      ],
      "metadata": {
        "id": "jmxkkG_ej3OD"
      }
    },
    {
      "cell_type": "markdown",
      "source": [
        "### 2.1 Creating a function to make an EffNetB2 feature extractor"
      ],
      "metadata": {
        "id": "AIBOZdbGj4eq"
      }
    },
    {
      "cell_type": "code",
      "source": [
        "def create_effnetb2_model(num_classes : int = 3, seed : int = 42):\n",
        "  weights = torchvision.models.EfficientNet_B2_Weights.DEFAULT\n",
        "  transforms = weights.transforms()\n",
        "  model = torchvision.models.efficientnet_b2(weights = weights)\n",
        "\n",
        "  for params in model.parameters():\n",
        "    params.requires_grad = False\n",
        "\n",
        "  torch.manual_seed(seed)\n",
        "  model.classifier = nn.Sequential(\n",
        "      nn.Dropout(p = 0.3),\n",
        "      nn.Linear(in_features = 1408, out_features = num_classes)\n",
        "  )\n",
        "\n",
        "  return model, transforms"
      ],
      "metadata": {
        "id": "eu-Zrmecj46H"
      },
      "execution_count": 7,
      "outputs": []
    },
    {
      "cell_type": "code",
      "source": [
        "effnetb2, effnetb2_transforms = create_effnetb2_model(num_classes=3, seed=42)"
      ],
      "metadata": {
        "colab": {
          "base_uri": "https://localhost:8080/"
        },
        "id": "Yd2ycTzEj7ME",
        "outputId": "79f79276-502e-4b58-f9d3-78ab4f198101"
      },
      "execution_count": 8,
      "outputs": [
        {
          "output_type": "stream",
          "name": "stderr",
          "text": [
            "Downloading: \"https://download.pytorch.org/models/efficientnet_b2_rwightman-c35c1473.pth\" to /root/.cache/torch/hub/checkpoints/efficientnet_b2_rwightman-c35c1473.pth\n",
            "100%|██████████| 35.2M/35.2M [00:00<00:00, 69.7MB/s]\n"
          ]
        }
      ]
    },
    {
      "cell_type": "code",
      "source": [
        "summary(model = effnetb2,\n",
        "        input_size = (1, 3, 224, 224),\n",
        "        col_names = [\"input_size\", \"output_size\", \"num_params\", \"trainable\"],\n",
        "        col_width = 20,\n",
        "        row_settings = [\"var_names\"])"
      ],
      "metadata": {
        "colab": {
          "base_uri": "https://localhost:8080/"
        },
        "id": "6Ct4cM4Aj85h",
        "outputId": "62d09a87-e177-44e1-b611-1722cd37a854"
      },
      "execution_count": 9,
      "outputs": [
        {
          "output_type": "execute_result",
          "data": {
            "text/plain": [
              "============================================================================================================================================\n",
              "Layer (type (var_name))                                      Input Shape          Output Shape         Param #              Trainable\n",
              "============================================================================================================================================\n",
              "EfficientNet (EfficientNet)                                  [1, 3, 224, 224]     [1, 3]               --                   Partial\n",
              "├─Sequential (features)                                      [1, 3, 224, 224]     [1, 1408, 7, 7]      --                   False\n",
              "│    └─Conv2dNormActivation (0)                              [1, 3, 224, 224]     [1, 32, 112, 112]    --                   False\n",
              "│    │    └─Conv2d (0)                                       [1, 3, 224, 224]     [1, 32, 112, 112]    (864)                False\n",
              "│    │    └─BatchNorm2d (1)                                  [1, 32, 112, 112]    [1, 32, 112, 112]    (64)                 False\n",
              "│    │    └─SiLU (2)                                         [1, 32, 112, 112]    [1, 32, 112, 112]    --                   --\n",
              "│    └─Sequential (1)                                        [1, 32, 112, 112]    [1, 16, 112, 112]    --                   False\n",
              "│    │    └─MBConv (0)                                       [1, 32, 112, 112]    [1, 16, 112, 112]    (1,448)              False\n",
              "│    │    └─MBConv (1)                                       [1, 16, 112, 112]    [1, 16, 112, 112]    (612)                False\n",
              "│    └─Sequential (2)                                        [1, 16, 112, 112]    [1, 24, 56, 56]      --                   False\n",
              "│    │    └─MBConv (0)                                       [1, 16, 112, 112]    [1, 24, 56, 56]      (6,004)              False\n",
              "│    │    └─MBConv (1)                                       [1, 24, 56, 56]      [1, 24, 56, 56]      (10,710)             False\n",
              "│    │    └─MBConv (2)                                       [1, 24, 56, 56]      [1, 24, 56, 56]      (10,710)             False\n",
              "│    └─Sequential (3)                                        [1, 24, 56, 56]      [1, 48, 28, 28]      --                   False\n",
              "│    │    └─MBConv (0)                                       [1, 24, 56, 56]      [1, 48, 28, 28]      (16,518)             False\n",
              "│    │    └─MBConv (1)                                       [1, 48, 28, 28]      [1, 48, 28, 28]      (43,308)             False\n",
              "│    │    └─MBConv (2)                                       [1, 48, 28, 28]      [1, 48, 28, 28]      (43,308)             False\n",
              "│    └─Sequential (4)                                        [1, 48, 28, 28]      [1, 88, 14, 14]      --                   False\n",
              "│    │    └─MBConv (0)                                       [1, 48, 28, 28]      [1, 88, 14, 14]      (50,300)             False\n",
              "│    │    └─MBConv (1)                                       [1, 88, 14, 14]      [1, 88, 14, 14]      (123,750)            False\n",
              "│    │    └─MBConv (2)                                       [1, 88, 14, 14]      [1, 88, 14, 14]      (123,750)            False\n",
              "│    │    └─MBConv (3)                                       [1, 88, 14, 14]      [1, 88, 14, 14]      (123,750)            False\n",
              "│    └─Sequential (5)                                        [1, 88, 14, 14]      [1, 120, 14, 14]     --                   False\n",
              "│    │    └─MBConv (0)                                       [1, 88, 14, 14]      [1, 120, 14, 14]     (149,158)            False\n",
              "│    │    └─MBConv (1)                                       [1, 120, 14, 14]     [1, 120, 14, 14]     (237,870)            False\n",
              "│    │    └─MBConv (2)                                       [1, 120, 14, 14]     [1, 120, 14, 14]     (237,870)            False\n",
              "│    │    └─MBConv (3)                                       [1, 120, 14, 14]     [1, 120, 14, 14]     (237,870)            False\n",
              "│    └─Sequential (6)                                        [1, 120, 14, 14]     [1, 208, 7, 7]       --                   False\n",
              "│    │    └─MBConv (0)                                       [1, 120, 14, 14]     [1, 208, 7, 7]       (301,406)            False\n",
              "│    │    └─MBConv (1)                                       [1, 208, 7, 7]       [1, 208, 7, 7]       (686,868)            False\n",
              "│    │    └─MBConv (2)                                       [1, 208, 7, 7]       [1, 208, 7, 7]       (686,868)            False\n",
              "│    │    └─MBConv (3)                                       [1, 208, 7, 7]       [1, 208, 7, 7]       (686,868)            False\n",
              "│    │    └─MBConv (4)                                       [1, 208, 7, 7]       [1, 208, 7, 7]       (686,868)            False\n",
              "│    └─Sequential (7)                                        [1, 208, 7, 7]       [1, 352, 7, 7]       --                   False\n",
              "│    │    └─MBConv (0)                                       [1, 208, 7, 7]       [1, 352, 7, 7]       (846,900)            False\n",
              "│    │    └─MBConv (1)                                       [1, 352, 7, 7]       [1, 352, 7, 7]       (1,888,920)          False\n",
              "│    └─Conv2dNormActivation (8)                              [1, 352, 7, 7]       [1, 1408, 7, 7]      --                   False\n",
              "│    │    └─Conv2d (0)                                       [1, 352, 7, 7]       [1, 1408, 7, 7]      (495,616)            False\n",
              "│    │    └─BatchNorm2d (1)                                  [1, 1408, 7, 7]      [1, 1408, 7, 7]      (2,816)              False\n",
              "│    │    └─SiLU (2)                                         [1, 1408, 7, 7]      [1, 1408, 7, 7]      --                   --\n",
              "├─AdaptiveAvgPool2d (avgpool)                                [1, 1408, 7, 7]      [1, 1408, 1, 1]      --                   --\n",
              "├─Sequential (classifier)                                    [1, 1408]            [1, 3]               --                   True\n",
              "│    └─Dropout (0)                                           [1, 1408]            [1, 1408]            --                   --\n",
              "│    └─Linear (1)                                            [1, 1408]            [1, 3]               4,227                True\n",
              "============================================================================================================================================\n",
              "Total params: 7,705,221\n",
              "Trainable params: 4,227\n",
              "Non-trainable params: 7,700,994\n",
              "Total mult-adds (Units.MEGABYTES): 657.64\n",
              "============================================================================================================================================\n",
              "Input size (MB): 0.60\n",
              "Forward/backward pass size (MB): 156.80\n",
              "Params size (MB): 30.82\n",
              "Estimated Total Size (MB): 188.22\n",
              "============================================================================================================================================"
            ]
          },
          "metadata": {},
          "execution_count": 9
        }
      ]
    },
    {
      "cell_type": "markdown",
      "source": [
        "### 2.2 Creating DataLoaders for EffNetB2"
      ],
      "metadata": {
        "id": "e5q9YjdAkVXV"
      }
    },
    {
      "cell_type": "code",
      "source": [
        "import os\n",
        "num_workers = os.cpu_count()\n",
        "def create_dataLoaders(train_dir: str,\n",
        "                       test_dir: str,\n",
        "                       transform : torchvision.transforms.Compose,\n",
        "                       batch_size: int,\n",
        "                       num_workers: int = num_workers):\n",
        "  train_dataset = torchvision.datasets.ImageFolder(train_dir, transform = transform)\n",
        "  test_dataset = torchvision.datasets.ImageFolder(test_dir, transform = transform)\n",
        "\n",
        "  classes = train_dataset.classes\n",
        "\n",
        "  train_dataLoader = torch.utils.data.DataLoader(dataset = train_dataset, batch_size = batch_size, shuffle = True, num_workers = num_workers, pin_memory = True)\n",
        "  test_dataLoader = torch.utils.data.DataLoader(dataset = test_dataset, batch_size = batch_size, shuffle = False, num_workers = num_workers, pin_memory = True)\n",
        "\n",
        "  return train_dataLoader, test_dataLoader, classes"
      ],
      "metadata": {
        "id": "S9MmjB4tkVF5"
      },
      "execution_count": 10,
      "outputs": []
    },
    {
      "cell_type": "code",
      "source": [
        "batch_size = 32\n",
        "effnetb2_train_dataLoader, effnetb2_test_dataLoader, effnetb2_classes = create_dataLoaders(train_dir, test_dir, effnetb2_transforms, batch_size = batch_size)"
      ],
      "metadata": {
        "id": "HGlEc7m3kamB"
      },
      "execution_count": 11,
      "outputs": []
    },
    {
      "cell_type": "code",
      "source": [
        "effnetb2_train_dataLoader, effnetb2_test_dataLoader, effnetb2_classes"
      ],
      "metadata": {
        "colab": {
          "base_uri": "https://localhost:8080/"
        },
        "id": "szq4iKYgkeVQ",
        "outputId": "2b16f512-9bd3-480a-ccd2-059656adb3ad"
      },
      "execution_count": 13,
      "outputs": [
        {
          "output_type": "execute_result",
          "data": {
            "text/plain": [
              "(<torch.utils.data.dataloader.DataLoader at 0x7b7a2d64a150>,\n",
              " <torch.utils.data.dataloader.DataLoader at 0x7b7b41ce7e50>,\n",
              " ['pizza', 'steak', 'sushi'])"
            ]
          },
          "metadata": {},
          "execution_count": 13
        }
      ]
    },
    {
      "cell_type": "markdown",
      "source": [
        "### 2.3 Training EffNetB2"
      ],
      "metadata": {
        "id": "ZPXHS-i6kuvE"
      }
    },
    {
      "cell_type": "code",
      "source": [
        "optimizer = torch.optim.Adam(effnetb2.parameters(), lr = 0.001)\n",
        "loss_fn = nn.CrossEntropyLoss()"
      ],
      "metadata": {
        "id": "qVMgOmdokfO6"
      },
      "execution_count": 14,
      "outputs": []
    },
    {
      "cell_type": "code",
      "source": [
        "def train_step(model: torch.nn.Module,\n",
        "               dataLoader: torch.utils.data.DataLoader,\n",
        "               loss_fn: torch.nn.Module,\n",
        "               optimizer: torch.optim.Optimizer,\n",
        "               device: torch.device):\n",
        "  model.train()\n",
        "  train_loss, train_acc = 0, 0\n",
        "  for batch, (X, y) in enumerate(dataLoader):\n",
        "    X, y = X.to(device), y.to(device)\n",
        "    optimizer.zero_grad()\n",
        "    train_logits = model(X)\n",
        "    loss = loss_fn(train_logits, y)\n",
        "    train_loss += loss.item()\n",
        "    loss.backward()\n",
        "    optimizer.step()\n",
        "\n",
        "    train_preds = torch.argmax(torch.softmax(train_logits, dim = 1), dim = 1)\n",
        "    train_acc += (train_preds == y).sum().item() / len(train_logits)\n",
        "\n",
        "  train_loss = train_loss / len(dataLoader)\n",
        "  train_acc = train_acc / len(dataLoader)\n",
        "\n",
        "  return train_loss, train_acc\n",
        "\n",
        "def test_step(model: torch.nn.Module,\n",
        "              dataLoader: torch.utils.data.DataLoader,\n",
        "              loss_fn: torch.nn.Module,\n",
        "              device: torch.device\n",
        "              ):\n",
        "  model.eval()\n",
        "  test_loss, test_acc = 0, 0\n",
        "  with torch.inference_mode():\n",
        "    for batch, (X, y) in enumerate(dataLoader):\n",
        "      X, y = X.to(device), y.to(device)\n",
        "      test_logits = model(X)\n",
        "      loss = loss_fn(test_logits, y)\n",
        "      test_loss += loss.item()\n",
        "      test_preds = torch.argmax(test_logits, dim = 1)\n",
        "      test_acc += ((test_preds == y).sum().item() / len(test_preds))\n",
        "    test_loss = test_loss / len(dataLoader)\n",
        "    test_acc = test_acc / len(dataLoader)\n",
        "\n",
        "  return test_loss, test_acc\n",
        "\n",
        "def train_test(model : torch.nn.Module,\n",
        "               train_dataLoader : torch.utils.data.DataLoader,\n",
        "               test_dataLoader : torch.utils.data.DataLoader,\n",
        "               optimizer : torch.optim.Optimizer,\n",
        "               loss_fn : torch.nn.Module,\n",
        "               epochs : int,\n",
        "               device : torch.device):\n",
        "\n",
        "  results = {\"train_loss\": [],\n",
        "               \"train_acc\": [],\n",
        "               \"test_loss\": [],\n",
        "               \"test_acc\": []\n",
        "    }\n",
        "\n",
        "  model.to(device)\n",
        "\n",
        "  for epoch in range(epochs):\n",
        "    train_loss, train_acc = train_step(model = model,\n",
        "                                       dataLoader = train_dataLoader,\n",
        "                                       loss_fn = loss_fn,\n",
        "                                       optimizer = optimizer,\n",
        "                                       device = device\n",
        "                                       )\n",
        "    test_loss, test_acc = test_step(model = model,\n",
        "                                    dataLoader = test_dataLoader,\n",
        "                                    loss_fn = loss_fn,\n",
        "                                    device = device)\n",
        "\n",
        "    print(\n",
        "          f\"Epoch: {epoch+1} | \"\n",
        "          f\"train_loss: {train_loss:.4f} | \"\n",
        "          f\"train_acc: {train_acc:.4f} | \"\n",
        "          f\"test_loss: {test_loss:.4f} | \"\n",
        "          f\"test_acc: {test_acc:.4f}\"\n",
        "        )\n",
        "\n",
        "    results[\"train_loss\"].append(train_loss)\n",
        "    results[\"train_acc\"].append(train_acc)\n",
        "    results[\"test_loss\"].append(test_loss)\n",
        "    results[\"test_acc\"].append(test_acc)\n",
        "\n",
        "  return results"
      ],
      "metadata": {
        "id": "SHMBbn2kkwM_"
      },
      "execution_count": 18,
      "outputs": []
    },
    {
      "cell_type": "code",
      "source": [
        "effnetb2_results = train_test(model = effnetb2,\n",
        "           train_dataLoader = effnetb2_train_dataLoader,\n",
        "           test_dataLoader = effnetb2_test_dataLoader,\n",
        "           optimizer = optimizer,\n",
        "           loss_fn = loss_fn,\n",
        "           epochs = 10,\n",
        "           device = device)\n",
        "\n",
        "effnetb2_results"
      ],
      "metadata": {
        "colab": {
          "base_uri": "https://localhost:8080/"
        },
        "id": "ahK6P9MIkyjG",
        "outputId": "c40e37d8-b06f-4dba-b5a0-94900b34a739"
      },
      "execution_count": 19,
      "outputs": [
        {
          "output_type": "stream",
          "name": "stdout",
          "text": [
            "Epoch: 1 | train_loss: 0.3504 | train_acc: 0.8625 | test_loss: 0.2754 | test_acc: 0.9318\n",
            "Epoch: 2 | train_loss: 0.2702 | train_acc: 0.9437 | test_loss: 0.2693 | test_acc: 0.9409\n",
            "Epoch: 3 | train_loss: 0.2513 | train_acc: 0.9500 | test_loss: 0.2804 | test_acc: 0.9506\n",
            "Epoch: 4 | train_loss: 0.2488 | train_acc: 0.9417 | test_loss: 0.2539 | test_acc: 0.9534\n",
            "Epoch: 5 | train_loss: 0.3030 | train_acc: 0.9021 | test_loss: 0.2510 | test_acc: 0.9256\n",
            "Epoch: 6 | train_loss: 0.2814 | train_acc: 0.9125 | test_loss: 0.2671 | test_acc: 0.9108\n",
            "Epoch: 7 | train_loss: 0.3139 | train_acc: 0.8979 | test_loss: 0.2500 | test_acc: 0.9381\n",
            "Epoch: 8 | train_loss: 0.2585 | train_acc: 0.9208 | test_loss: 0.2420 | test_acc: 0.9290\n",
            "Epoch: 9 | train_loss: 0.2958 | train_acc: 0.9000 | test_loss: 0.2380 | test_acc: 0.9409\n",
            "Epoch: 10 | train_loss: 0.1928 | train_acc: 0.9542 | test_loss: 0.2621 | test_acc: 0.9290\n"
          ]
        },
        {
          "output_type": "execute_result",
          "data": {
            "text/plain": [
              "{'train_loss': [0.3504352996746699,\n",
              "  0.27021722694238026,\n",
              "  0.25127012729644777,\n",
              "  0.24880375762780507,\n",
              "  0.30302891532580056,\n",
              "  0.2813721030950546,\n",
              "  0.3138655165831248,\n",
              "  0.2585172732671102,\n",
              "  0.2957779198884964,\n",
              "  0.19275291015704474],\n",
              " 'train_acc': [0.8625,\n",
              "  0.94375,\n",
              "  0.95,\n",
              "  0.9416666666666667,\n",
              "  0.9020833333333333,\n",
              "  0.9125,\n",
              "  0.8979166666666667,\n",
              "  0.9208333333333333,\n",
              "  0.9,\n",
              "  0.9541666666666667],\n",
              " 'test_loss': [0.2754449248313904,\n",
              "  0.2693226158618927,\n",
              "  0.28041161596775055,\n",
              "  0.25394303500652315,\n",
              "  0.2509700894355774,\n",
              "  0.267135351896286,\n",
              "  0.2500262752175331,\n",
              "  0.241960871219635,\n",
              "  0.23797574937343596,\n",
              "  0.2621349781751633],\n",
              " 'test_acc': [0.9318181818181819,\n",
              "  0.940909090909091,\n",
              "  0.9505681818181818,\n",
              "  0.953409090909091,\n",
              "  0.9255681818181818,\n",
              "  0.9107954545454545,\n",
              "  0.9380681818181819,\n",
              "  0.9289772727272727,\n",
              "  0.940909090909091,\n",
              "  0.9289772727272727]}"
            ]
          },
          "metadata": {},
          "execution_count": 19
        }
      ]
    },
    {
      "cell_type": "markdown",
      "source": [
        "### 2.4 Visualize Loss And Acc Values"
      ],
      "metadata": {
        "id": "_UxuJzVNl9uH"
      }
    },
    {
      "cell_type": "code",
      "source": [
        "def plot_loss_curves(results):\n",
        "  train_loss = results[\"train_loss\"]\n",
        "  test_loss = results[\"test_loss\"]\n",
        "\n",
        "  train_acc = results[\"train_acc\"]\n",
        "  test_acc = results[\"test_acc\"]\n",
        "\n",
        "  epochs = range(len(results[\"train_loss\"]))\n",
        "\n",
        "  plt.figure()\n",
        "  plt.subplot(1, 2, 1)\n",
        "  plt.plot(epochs, train_loss, label = \"train_loss\")\n",
        "  plt.plot(epochs, test_loss, label = \"test_loss\")\n",
        "  plt.title(\"Loss\")\n",
        "  plt.xlabel(\"Epochs\")\n",
        "  plt.legend()\n",
        "\n",
        "  plt.subplot(1, 2, 2)\n",
        "  plt.plot(epochs, train_acc, label = \"train_acc\")\n",
        "  plt.plot(epochs, test_acc, label = \"test_acc\")\n",
        "  plt.title(\"Accuracy\")\n",
        "  plt.xlabel(\"Epochs\")\n",
        "  plt.legend()"
      ],
      "metadata": {
        "id": "MPYNtcfJl-u5"
      },
      "execution_count": 20,
      "outputs": []
    },
    {
      "cell_type": "code",
      "source": [
        "plot_loss_curves(effnetb2_results)"
      ],
      "metadata": {
        "colab": {
          "base_uri": "https://localhost:8080/",
          "height": 472
        },
        "id": "zglI8z8Sl-sC",
        "outputId": "0f3b1e0f-28ec-4766-de3d-dde4715d5d5b"
      },
      "execution_count": 21,
      "outputs": [
        {
          "output_type": "display_data",
          "data": {
            "text/plain": [
              "<Figure size 640x480 with 2 Axes>"
            ],
            "image/png": "[encoded data removed]"
          },
          "metadata": {}
        }
      ]
    },
    {
      "cell_type": "markdown",
      "source": [
        "### 2.5 Saving EffnetB2"
      ],
      "metadata": {
        "id": "xUV-l9m8mN6J"
      }
    },
    {
      "cell_type": "code",
      "source": [
        "import pathlib\n",
        "def save_model(model: torch.nn.Module,\n",
        "               target_dir : str,\n",
        "               model_name : str):\n",
        "\n",
        "  target_dir_path = pathlib.Path(target_dir)\n",
        "  target_dir_path.mkdir(parents = True, exist_ok = True)\n",
        "\n",
        "  assert model_name.endswith(\".pth\") or model_name.endswith(\".pt\"), \"model name should end with '.pth' or '.pt'.\"\n",
        "\n",
        "  model_save_path = target_dir_path / model_name\n",
        "\n",
        "  print(f\"[INFO] Saving model to: {model_save_path}.\")\n",
        "  torch.save(obj = model.state_dict(),\n",
        "             f =  model_save_path)\n",
        "\n",
        "save_model(model = effnetb2, target_dir = \"models\", model_name = \"09_pretrained_effnetb2_pizza_steak_sushi_20_percent.pth\")"
      ],
      "metadata": {
        "colab": {
          "base_uri": "https://localhost:8080/"
        },
        "id": "hKfx10VQmOkP",
        "outputId": "2e26d9ec-4cdb-4846-e79d-d8a615c55feb"
      },
      "execution_count": 22,
      "outputs": [
        {
          "output_type": "stream",
          "name": "stdout",
          "text": [
            "[INFO] Saving model to: models/09_pretrained_effnetb2_pizza_steak_sushi_20_percent.pth.\n"
          ]
        }
      ]
    },
    {
      "cell_type": "markdown",
      "source": [
        "### 2.6 Checking the size of EffNetB2 feature extractor"
      ],
      "metadata": {
        "id": "2y9DU-qLmSXg"
      }
    },
    {
      "cell_type": "code",
      "source": [
        "import pathlib\n",
        "pretrained_effnetb2_model_size = pathlib.Path(\"models/09_pretrained_effnetb2_pizza_steak_sushi_20_percent.pth\").stat().st_size // (1024 * 1024)\n",
        "print(f\"Pretrained EffNetB2 feature extractor model size: {pretrained_effnetb2_model_size} MB\")"
      ],
      "metadata": {
        "colab": {
          "base_uri": "https://localhost:8080/"
        },
        "id": "OGrMkafHmQJK",
        "outputId": "33e4320f-b8b8-4d8a-c6fa-1fbe394efb09"
      },
      "execution_count": 23,
      "outputs": [
        {
          "output_type": "stream",
          "name": "stdout",
          "text": [
            "Pretrained EffNetB2 feature extractor model size: 29 MB\n"
          ]
        }
      ]
    },
    {
      "cell_type": "markdown",
      "source": [
        "### 2.7 Collecting EffNetB2 feature extractor stats"
      ],
      "metadata": {
        "id": "NHZBWl8ZmVuJ"
      }
    },
    {
      "cell_type": "code",
      "source": [
        "effnetb2_total_params = sum(torch.numel(param) for param in effnetb2.parameters())\n",
        "effnetb2_total_params"
      ],
      "metadata": {
        "colab": {
          "base_uri": "https://localhost:8080/"
        },
        "id": "rnMIGoFAmYFT",
        "outputId": "d36c7ed6-66cb-4f69-eebc-306ac11f12b8"
      },
      "execution_count": 24,
      "outputs": [
        {
          "output_type": "execute_result",
          "data": {
            "text/plain": [
              "7705221"
            ]
          },
          "metadata": {},
          "execution_count": 24
        }
      ]
    },
    {
      "cell_type": "code",
      "source": [
        "effnetb2_stats = {\"test_loss\" : effnetb2_results[\"test_loss\"][-1],\n",
        "                  \"test_acc\" : effnetb2_results[\"test_acc\"][-1],\n",
        "                  \"number_of_parameters\" : effnetb2_total_params,\n",
        "                  \"model_size (MB)\": pretrained_effnetb2_model_size}\n",
        "\n",
        "effnetb2_stats"
      ],
      "metadata": {
        "colab": {
          "base_uri": "https://localhost:8080/"
        },
        "id": "0p0NHVjbmZ5A",
        "outputId": "74db7c13-f362-4cc3-e91e-57aca38ba5af"
      },
      "execution_count": 25,
      "outputs": [
        {
          "output_type": "execute_result",
          "data": {
            "text/plain": [
              "{'test_loss': 0.2621349781751633,\n",
              " 'test_acc': 0.9289772727272727,\n",
              " 'number_of_parameters': 7705221,\n",
              " 'model_size (MB)': 29}"
            ]
          },
          "metadata": {},
          "execution_count": 25
        }
      ]
    },
    {
      "cell_type": "markdown",
      "source": [
        "## 3. FoodVision Mini model with ViT"
      ],
      "metadata": {
        "id": "PY6MXbfGooHz"
      }
    },
    {
      "cell_type": "code",
      "source": [
        "def create_vit_b_16_model(num_classes:int=3, seed:int=42):\n",
        "  weights = torchvision.models.ViT_B_16_Weights.DEFAULT\n",
        "  transforms = weights.transforms()\n",
        "  model = torchvision.models.vit_b_16(weights = weights)\n",
        "\n",
        "  for param in model.parameters():\n",
        "    param.requires_grad = False\n",
        "\n",
        "  torch.manual_seed(seed)\n",
        "  model.heads  = nn.Sequential(\n",
        "      nn.Linear(in_features=768, out_features=num_classes)\n",
        "  )\n",
        "\n",
        "  return model, transforms"
      ],
      "metadata": {
        "id": "o3nVZyiboort"
      },
      "execution_count": 26,
      "outputs": []
    },
    {
      "cell_type": "code",
      "source": [
        "vit, vit_transforms = create_vit_b_16_model(num_classes=3, seed=42)"
      ],
      "metadata": {
        "colab": {
          "base_uri": "https://localhost:8080/"
        },
        "id": "qBovKcUgoopF",
        "outputId": "bb0fc7a8-245c-4c54-d42f-3c80810347f4"
      },
      "execution_count": 27,
      "outputs": [
        {
          "output_type": "stream",
          "name": "stderr",
          "text": [
            "Downloading: \"https://download.pytorch.org/models/vit_b_16-c867db91.pth\" to /root/.cache/torch/hub/checkpoints/vit_b_16-c867db91.pth\n",
            "100%|██████████| 330M/330M [00:02<00:00, 158MB/s]\n"
          ]
        }
      ]
    },
    {
      "cell_type": "code",
      "source": [
        "summary(model = vit,\n",
        "        input_size = (1, 3, 224, 224),\n",
        "        col_names = [\"input_size\", \"output_size\", \"num_params\", \"trainable\"],\n",
        "        col_width = 20,\n",
        "        row_settings = [\"var_names\"])"
      ],
      "metadata": {
        "colab": {
          "base_uri": "https://localhost:8080/"
        },
        "id": "ugtMN9gaoogG",
        "outputId": "ec3763ec-992f-4da3-a418-181977ad0cb4"
      },
      "execution_count": 28,
      "outputs": [
        {
          "output_type": "execute_result",
          "data": {
            "text/plain": [
              "============================================================================================================================================\n",
              "Layer (type (var_name))                                      Input Shape          Output Shape         Param #              Trainable\n",
              "============================================================================================================================================\n",
              "VisionTransformer (VisionTransformer)                        [1, 3, 224, 224]     [1, 3]               768                  Partial\n",
              "├─Conv2d (conv_proj)                                         [1, 3, 224, 224]     [1, 768, 14, 14]     (590,592)            False\n",
              "├─Encoder (encoder)                                          [1, 197, 768]        [1, 197, 768]        151,296              False\n",
              "│    └─Dropout (dropout)                                     [1, 197, 768]        [1, 197, 768]        --                   --\n",
              "│    └─Sequential (layers)                                   [1, 197, 768]        [1, 197, 768]        --                   False\n",
              "│    │    └─EncoderBlock (encoder_layer_0)                   [1, 197, 768]        [1, 197, 768]        (7,087,872)          False\n",
              "│    │    └─EncoderBlock (encoder_layer_1)                   [1, 197, 768]        [1, 197, 768]        (7,087,872)          False\n",
              "│    │    └─EncoderBlock (encoder_layer_2)                   [1, 197, 768]        [1, 197, 768]        (7,087,872)          False\n",
              "│    │    └─EncoderBlock (encoder_layer_3)                   [1, 197, 768]        [1, 197, 768]        (7,087,872)          False\n",
              "│    │    └─EncoderBlock (encoder_layer_4)                   [1, 197, 768]        [1, 197, 768]        (7,087,872)          False\n",
              "│    │    └─EncoderBlock (encoder_layer_5)                   [1, 197, 768]        [1, 197, 768]        (7,087,872)          False\n",
              "│    │    └─EncoderBlock (encoder_layer_6)                   [1, 197, 768]        [1, 197, 768]        (7,087,872)          False\n",
              "│    │    └─EncoderBlock (encoder_layer_7)                   [1, 197, 768]        [1, 197, 768]        (7,087,872)          False\n",
              "│    │    └─EncoderBlock (encoder_layer_8)                   [1, 197, 768]        [1, 197, 768]        (7,087,872)          False\n",
              "│    │    └─EncoderBlock (encoder_layer_9)                   [1, 197, 768]        [1, 197, 768]        (7,087,872)          False\n",
              "│    │    └─EncoderBlock (encoder_layer_10)                  [1, 197, 768]        [1, 197, 768]        (7,087,872)          False\n",
              "│    │    └─EncoderBlock (encoder_layer_11)                  [1, 197, 768]        [1, 197, 768]        (7,087,872)          False\n",
              "│    └─LayerNorm (ln)                                        [1, 197, 768]        [1, 197, 768]        (1,536)              False\n",
              "├─Sequential (heads)                                         [1, 768]             [1, 3]               --                   True\n",
              "│    └─Linear (0)                                            [1, 768]             [1, 3]               2,307                True\n",
              "============================================================================================================================================\n",
              "Total params: 85,800,963\n",
              "Trainable params: 2,307\n",
              "Non-trainable params: 85,798,656\n",
              "Total mult-adds (Units.MEGABYTES): 172.47\n",
              "============================================================================================================================================\n",
              "Input size (MB): 0.60\n",
              "Forward/backward pass size (MB): 104.09\n",
              "Params size (MB): 229.20\n",
              "Estimated Total Size (MB): 333.89\n",
              "============================================================================================================================================"
            ]
          },
          "metadata": {},
          "execution_count": 28
        }
      ]
    },
    {
      "cell_type": "code",
      "source": [
        "vit_train_dataLoader, vit_test_dataLoader, vit_classes = create_dataLoaders(train_dir = train_dir,\n",
        "                                                                            test_dir = test_dir,\n",
        "                                                                            transform = vit_transforms,\n",
        "                                                                            batch_size = 32)\n",
        "\n",
        "vit_train_dataLoader, vit_test_dataLoader, vit_classes"
      ],
      "metadata": {
        "colab": {
          "base_uri": "https://localhost:8080/"
        },
        "id": "J4YqtNu0oodK",
        "outputId": "10945113-dc7f-4f19-e41a-39ebaf3bc4bb"
      },
      "execution_count": 29,
      "outputs": [
        {
          "output_type": "execute_result",
          "data": {
            "text/plain": [
              "(<torch.utils.data.dataloader.DataLoader at 0x7b7a2a546b10>,\n",
              " <torch.utils.data.dataloader.DataLoader at 0x7b7a2a547e50>,\n",
              " ['pizza', 'steak', 'sushi'])"
            ]
          },
          "metadata": {},
          "execution_count": 29
        }
      ]
    },
    {
      "cell_type": "code",
      "source": [
        "optimizer = torch.optim.Adam(vit.parameters(), lr = 0.001)\n",
        "loss_fn = nn.CrossEntropyLoss()\n",
        "\n",
        "vit_results = train_test(model = vit,\n",
        "                         train_dataLoader = vit_train_dataLoader,\n",
        "                         test_dataLoader = vit_test_dataLoader,\n",
        "                         optimizer = optimizer,\n",
        "                         loss_fn = loss_fn,\n",
        "                         epochs = 10,\n",
        "                         device = device)"
      ],
      "metadata": {
        "colab": {
          "base_uri": "https://localhost:8080/"
        },
        "id": "2JErjf0Dooae",
        "outputId": "96fbae1c-000c-428c-e964-5fe5647acb67"
      },
      "execution_count": 30,
      "outputs": [
        {
          "output_type": "stream",
          "name": "stdout",
          "text": [
            "Epoch: 1 | train_loss: 0.6173 | train_acc: 0.7854 | test_loss: 0.2692 | test_acc: 0.9352\n",
            "Epoch: 2 | train_loss: 0.2241 | train_acc: 0.9437 | test_loss: 0.1414 | test_acc: 0.9631\n",
            "Epoch: 3 | train_loss: 0.1539 | train_acc: 0.9563 | test_loss: 0.1071 | test_acc: 0.9722\n",
            "Epoch: 4 | train_loss: 0.1412 | train_acc: 0.9625 | test_loss: 0.0966 | test_acc: 0.9693\n",
            "Epoch: 5 | train_loss: 0.1058 | train_acc: 0.9667 | test_loss: 0.0866 | test_acc: 0.9722\n",
            "Epoch: 6 | train_loss: 0.0903 | train_acc: 0.9729 | test_loss: 0.0823 | test_acc: 0.9722\n",
            "Epoch: 7 | train_loss: 0.0783 | train_acc: 0.9792 | test_loss: 0.0772 | test_acc: 0.9784\n",
            "Epoch: 8 | train_loss: 0.0693 | train_acc: 0.9792 | test_loss: 0.0712 | test_acc: 0.9784\n",
            "Epoch: 9 | train_loss: 0.0615 | train_acc: 0.9896 | test_loss: 0.0705 | test_acc: 0.9722\n",
            "Epoch: 10 | train_loss: 0.0548 | train_acc: 0.9938 | test_loss: 0.0667 | test_acc: 0.9722\n"
          ]
        }
      ]
    },
    {
      "cell_type": "code",
      "source": [
        "plot_loss_curves(vit_results)"
      ],
      "metadata": {
        "colab": {
          "base_uri": "https://localhost:8080/",
          "height": 472
        },
        "id": "zei24XA0oyLk",
        "outputId": "604a1ccc-166a-4bd0-cce7-ddbbbeed4de8"
      },
      "execution_count": 31,
      "outputs": [
        {
          "output_type": "display_data",
          "data": {
            "text/plain": [
              "<Figure size 640x480 with 2 Axes>"
            ],
            "image/png": "[encoded data removed]"
          },
          "metadata": {}
        }
      ]
    },
    {
      "cell_type": "code",
      "source": [
        "save_model(model = vit, target_dir = \"models\", model_name = \"09_pretrained_vit_pizza_steak_sushi_20_percent.pth\")"
      ],
      "metadata": {
        "colab": {
          "base_uri": "https://localhost:8080/"
        },
        "id": "MgxqvLcgpCev",
        "outputId": "c6d6e2c2-cab9-42f1-f82c-0ab2a0487086"
      },
      "execution_count": 32,
      "outputs": [
        {
          "output_type": "stream",
          "name": "stdout",
          "text": [
            "[INFO] Saving model to: models/09_pretrained_vit_pizza_steak_sushi_20_percent.pth.\n"
          ]
        }
      ]
    },
    {
      "cell_type": "code",
      "source": [
        "pretrained_vitb16_model_size = pathlib.Path(\"models/09_pretrained_vit_pizza_steak_sushi_20_percent.pth\").stat().st_size // (1024 * 1024)\n",
        "print(f\"Pretrained ViT_B_16 feature extractor model size: {pretrained_vitb16_model_size} MB\")"
      ],
      "metadata": {
        "colab": {
          "base_uri": "https://localhost:8080/"
        },
        "id": "rz73m0AnpDhw",
        "outputId": "1b3803a8-def2-44b8-c8a4-6338cf188d05"
      },
      "execution_count": 33,
      "outputs": [
        {
          "output_type": "stream",
          "name": "stdout",
          "text": [
            "Pretrained ViT_B_16 feature extractor model size: 327 MB\n"
          ]
        }
      ]
    },
    {
      "cell_type": "code",
      "source": [
        "vit_total_params = sum(torch.numel(param) for param in vit.parameters())\n",
        "vit_total_params"
      ],
      "metadata": {
        "colab": {
          "base_uri": "https://localhost:8080/"
        },
        "id": "iRko9pizpEej",
        "outputId": "f050c902-8e5b-4179-b365-3b151e09ad67"
      },
      "execution_count": 34,
      "outputs": [
        {
          "output_type": "execute_result",
          "data": {
            "text/plain": [
              "85800963"
            ]
          },
          "metadata": {},
          "execution_count": 34
        }
      ]
    },
    {
      "cell_type": "code",
      "source": [
        "vit_stats = {\"test_loss\" : vit_results[\"test_loss\"][-1],\n",
        "             \"test_acc\" : vit_results[\"test_acc\"][-1],\n",
        "             \"number_of_parameters\" : vit_total_params,\n",
        "             \"model_size (MB)\": pretrained_vitb16_model_size}\n",
        "\n",
        "vit_stats"
      ],
      "metadata": {
        "colab": {
          "base_uri": "https://localhost:8080/"
        },
        "id": "FWMzGmNApFbk",
        "outputId": "25bd6530-2a21-4e5f-ac80-6437d1531842"
      },
      "execution_count": 35,
      "outputs": [
        {
          "output_type": "execute_result",
          "data": {
            "text/plain": [
              "{'test_loss': 0.06667962307110428,\n",
              " 'test_acc': 0.972159090909091,\n",
              " 'number_of_parameters': 85800963,\n",
              " 'model_size (MB)': 327}"
            ]
          },
          "metadata": {},
          "execution_count": 35
        }
      ]
    }
  ]
}