{
  "nbformat": 4,
  "nbformat_minor": 0,
  "metadata": {
    "colab": {
      "provenance": [],
      "gpuType": "T4",
      "authorship_tag": "ABX9TyOKlKLLOExG/V/E8z/X7/Md"
    },
    "kernelspec": {
      "name": "python3",
      "display_name": "Python 3"
    },
    "language_info": {
      "name": "python"
    },
    "accelerator": "GPU",
    "widgets": {
      "application/vnd.jupyter.widget-state+json": {
        "33077f35783b4138baf276317fa8e601": {
          "model_module": "@jupyter-widgets/controls",
          "model_name": "HBoxModel",
          "model_module_version": "1.5.0",
          "state": {
            "_dom_classes": [],
            "_model_module": "@jupyter-widgets/controls",
            "_model_module_version": "1.5.0",
            "_model_name": "HBoxModel",
            "_view_count": null,
            "_view_module": "@jupyter-widgets/controls",
            "_view_module_version": "1.5.0",
            "_view_name": "HBoxView",
            "box_style": "",
            "children": [
              "IPY_MODEL_5f6e7021319d439db7aae80fbc387f19",
              "IPY_MODEL_924b09dc35384ee798a8fbf5be02d6e4",
              "IPY_MODEL_b631a694314f44e1bca4a74329ff160f"
            ],
            "layout": "IPY_MODEL_2ec4a65f38af408c8797687e69c61ba5"
          }
        },
        "5f6e7021319d439db7aae80fbc387f19": {
          "model_module": "@jupyter-widgets/controls",
          "model_name": "HTMLModel",
          "model_module_version": "1.5.0",
          "state": {
            "_dom_classes": [],
            "_model_module": "@jupyter-widgets/controls",
            "_model_module_version": "1.5.0",
            "_model_name": "HTMLModel",
            "_view_count": null,
            "_view_module": "@jupyter-widgets/controls",
            "_view_module_version": "1.5.0",
            "_view_name": "HTMLView",
            "description": "",
            "description_tooltip": null,
            "layout": "IPY_MODEL_cba0dee922aa4f7a83444512edf61783",
            "placeholder": "​",
            "style": "IPY_MODEL_30e0215058ce499f84869389e786cb23",
            "value": "100%"
          }
        },
        "924b09dc35384ee798a8fbf5be02d6e4": {
          "model_module": "@jupyter-widgets/controls",
          "model_name": "FloatProgressModel",
          "model_module_version": "1.5.0",
          "state": {
            "_dom_classes": [],
            "_model_module": "@jupyter-widgets/controls",
            "_model_module_version": "1.5.0",
            "_model_name": "FloatProgressModel",
            "_view_count": null,
            "_view_module": "@jupyter-widgets/controls",
            "_view_module_version": "1.5.0",
            "_view_name": "ProgressView",
            "bar_style": "success",
            "description": "",
            "description_tooltip": null,
            "layout": "IPY_MODEL_3af42a9e1dcb44c98cdb7fbfa6789a92",
            "max": 10,
            "min": 0,
            "orientation": "horizontal",
            "style": "IPY_MODEL_1d6e077ca2fd4e5ca81ec94db26d52f2",
            "value": 10
          }
        },
        "b631a694314f44e1bca4a74329ff160f": {
          "model_module": "@jupyter-widgets/controls",
          "model_name": "HTMLModel",
          "model_module_version": "1.5.0",
          "state": {
            "_dom_classes": [],
            "_model_module": "@jupyter-widgets/controls",
            "_model_module_version": "1.5.0",
            "_model_name": "HTMLModel",
            "_view_count": null,
            "_view_module": "@jupyter-widgets/controls",
            "_view_module_version": "1.5.0",
            "_view_name": "HTMLView",
            "description": "",
            "description_tooltip": null,
            "layout": "IPY_MODEL_caccf288602b4ac68048098ff902459f",
            "placeholder": "​",
            "style": "IPY_MODEL_ed1dfa003b86465389f8f6007c9d4ec3",
            "value": " 10/10 [00:56&lt;00:00,  5.68s/it]"
          }
        },
        "2ec4a65f38af408c8797687e69c61ba5": {
          "model_module": "@jupyter-widgets/base",
          "model_name": "LayoutModel",
          "model_module_version": "1.2.0",
          "state": {
            "_model_module": "@jupyter-widgets/base",
            "_model_module_version": "1.2.0",
            "_model_name": "LayoutModel",
            "_view_count": null,
            "_view_module": "@jupyter-widgets/base",
            "_view_module_version": "1.2.0",
            "_view_name": "LayoutView",
            "align_content": null,
            "align_items": null,
            "align_self": null,
            "border": null,
            "bottom": null,
            "display": null,
            "flex": null,
            "flex_flow": null,
            "grid_area": null,
            "grid_auto_columns": null,
            "grid_auto_flow": null,
            "grid_auto_rows": null,
            "grid_column": null,
            "grid_gap": null,
            "grid_row": null,
            "grid_template_areas": null,
            "grid_template_columns": null,
            "grid_template_rows": null,
            "height": null,
            "justify_content": null,
            "justify_items": null,
            "left": null,
            "margin": null,
            "max_height": null,
            "max_width": null,
            "min_height": null,
            "min_width": null,
            "object_fit": null,
            "object_position": null,
            "order": null,
            "overflow": null,
            "overflow_x": null,
            "overflow_y": null,
            "padding": null,
            "right": null,
            "top": null,
            "visibility": null,
            "width": null
          }
        },
        "cba0dee922aa4f7a83444512edf61783": {
          "model_module": "@jupyter-widgets/base",
          "model_name": "LayoutModel",
          "model_module_version": "1.2.0",
          "state": {
            "_model_module": "@jupyter-widgets/base",
            "_model_module_version": "1.2.0",
            "_model_name": "LayoutModel",
            "_view_count": null,
            "_view_module": "@jupyter-widgets/base",
            "_view_module_version": "1.2.0",
            "_view_name": "LayoutView",
            "align_content": null,
            "align_items": null,
            "align_self": null,
            "border": null,
            "bottom": null,
            "display": null,
            "flex": null,
            "flex_flow": null,
            "grid_area": null,
            "grid_auto_columns": null,
            "grid_auto_flow": null,
            "grid_auto_rows": null,
            "grid_column": null,
            "grid_gap": null,
            "grid_row": null,
            "grid_template_areas": null,
            "grid_template_columns": null,
            "grid_template_rows": null,
            "height": null,
            "justify_content": null,
            "justify_items": null,
            "left": null,
            "margin": null,
            "max_height": null,
            "max_width": null,
            "min_height": null,
            "min_width": null,
            "object_fit": null,
            "object_position": null,
            "order": null,
            "overflow": null,
            "overflow_x": null,
            "overflow_y": null,
            "padding": null,
            "right": null,
            "top": null,
            "visibility": null,
            "width": null
          }
        },
        "30e0215058ce499f84869389e786cb23": {
          "model_module": "@jupyter-widgets/controls",
          "model_name": "DescriptionStyleModel",
          "model_module_version": "1.5.0",
          "state": {
            "_model_module": "@jupyter-widgets/controls",
            "_model_module_version": "1.5.0",
            "_model_name": "DescriptionStyleModel",
            "_view_count": null,
            "_view_module": "@jupyter-widgets/base",
            "_view_module_version": "1.2.0",
            "_view_name": "StyleView",
            "description_width": ""
          }
        },
        "3af42a9e1dcb44c98cdb7fbfa6789a92": {
          "model_module": "@jupyter-widgets/base",
          "model_name": "LayoutModel",
          "model_module_version": "1.2.0",
          "state": {
            "_model_module": "@jupyter-widgets/base",
            "_model_module_version": "1.2.0",
            "_model_name": "LayoutModel",
            "_view_count": null,
            "_view_module": "@jupyter-widgets/base",
            "_view_module_version": "1.2.0",
            "_view_name": "LayoutView",
            "align_content": null,
            "align_items": null,
            "align_self": null,
            "border": null,
            "bottom": null,
            "display": null,
            "flex": null,
            "flex_flow": null,
            "grid_area": null,
            "grid_auto_columns": null,
            "grid_auto_flow": null,
            "grid_auto_rows": null,
            "grid_column": null,
            "grid_gap": null,
            "grid_row": null,
            "grid_template_areas": null,
            "grid_template_columns": null,
            "grid_template_rows": null,
            "height": null,
            "justify_content": null,
            "justify_items": null,
            "left": null,
            "margin": null,
            "max_height": null,
            "max_width": null,
            "min_height": null,
            "min_width": null,
            "object_fit": null,
            "object_position": null,
            "order": null,
            "overflow": null,
            "overflow_x": null,
            "overflow_y": null,
            "padding": null,
            "right": null,
            "top": null,
            "visibility": null,
            "width": null
          }
        },
        "1d6e077ca2fd4e5ca81ec94db26d52f2": {
          "model_module": "@jupyter-widgets/controls",
          "model_name": "ProgressStyleModel",
          "model_module_version": "1.5.0",
          "state": {
            "_model_module": "@jupyter-widgets/controls",
            "_model_module_version": "1.5.0",
            "_model_name": "ProgressStyleModel",
            "_view_count": null,
            "_view_module": "@jupyter-widgets/base",
            "_view_module_version": "1.2.0",
            "_view_name": "StyleView",
            "bar_color": null,
            "description_width": ""
          }
        },
        "caccf288602b4ac68048098ff902459f": {
          "model_module": "@jupyter-widgets/base",
          "model_name": "LayoutModel",
          "model_module_version": "1.2.0",
          "state": {
            "_model_module": "@jupyter-widgets/base",
            "_model_module_version": "1.2.0",
            "_model_name": "LayoutModel",
            "_view_count": null,
            "_view_module": "@jupyter-widgets/base",
            "_view_module_version": "1.2.0",
            "_view_name": "LayoutView",
            "align_content": null,
            "align_items": null,
            "align_self": null,
            "border": null,
            "bottom": null,
            "display": null,
            "flex": null,
            "flex_flow": null,
            "grid_area": null,
            "grid_auto_columns": null,
            "grid_auto_flow": null,
            "grid_auto_rows": null,
            "grid_column": null,
            "grid_gap": null,
            "grid_row": null,
            "grid_template_areas": null,
            "grid_template_columns": null,
            "grid_template_rows": null,
            "height": null,
            "justify_content": null,
            "justify_items": null,
            "left": null,
            "margin": null,
            "max_height": null,
            "max_width": null,
            "min_height": null,
            "min_width": null,
            "object_fit": null,
            "object_position": null,
            "order": null,
            "overflow": null,
            "overflow_x": null,
            "overflow_y": null,
            "padding": null,
            "right": null,
            "top": null,
            "visibility": null,
            "width": null
          }
        },
        "ed1dfa003b86465389f8f6007c9d4ec3": {
          "model_module": "@jupyter-widgets/controls",
          "model_name": "DescriptionStyleModel",
          "model_module_version": "1.5.0",
          "state": {
            "_model_module": "@jupyter-widgets/controls",
            "_model_module_version": "1.5.0",
            "_model_name": "DescriptionStyleModel",
            "_view_count": null,
            "_view_module": "@jupyter-widgets/base",
            "_view_module_version": "1.2.0",
            "_view_name": "StyleView",
            "description_width": ""
          }
        }
      }
    }
  },
  "cells": [
    {
      "cell_type": "markdown",
      "source": [
        "## 0. Getting Setup"
      ],
      "metadata": {
        "id": "qUTP_aOSf8yY"
      }
    },
    {
      "cell_type": "code",
      "execution_count": 1,
      "metadata": {
        "id": "MAWjtVhQftVn"
      },
      "outputs": [],
      "source": [
        "import torch\n",
        "import torch.nn as nn\n",
        "import torchvision\n",
        "import torchvision.transforms as transforms\n",
        "import matplotlib.pyplot as plt"
      ]
    },
    {
      "cell_type": "code",
      "source": [
        "import matplotlib.pyplot as plt\n",
        "import torch\n",
        "import torchvision\n",
        "\n",
        "from torch import nn\n",
        "from torchvision import transforms\n",
        "\n",
        "try:\n",
        "    from torchinfo import summary\n",
        "except:\n",
        "    print(\"[INFO] Couldn't find torchinfo... installing it.\")\n",
        "    !pip install -q torchinfo\n",
        "    from torchinfo import summary"
      ],
      "metadata": {
        "colab": {
          "base_uri": "https://localhost:8080/"
        },
        "id": "a0t3Gh-lf-zm",
        "outputId": "47febf7b-1e19-4b13-da0a-e912c57a503f"
      },
      "execution_count": 2,
      "outputs": [
        {
          "output_type": "stream",
          "name": "stdout",
          "text": [
            "[INFO] Couldn't find torchinfo... installing it.\n"
          ]
        }
      ]
    },
    {
      "cell_type": "code",
      "source": [
        "device = \"cuda\" if torch.cuda.is_available() else \"cpu\"\n",
        "device"
      ],
      "metadata": {
        "colab": {
          "base_uri": "https://localhost:8080/",
          "height": 36
        },
        "id": "whBOBsLMgAqj",
        "outputId": "d1ec8812-6f40-4f13-811b-a14320b533a6"
      },
      "execution_count": 3,
      "outputs": [
        {
          "output_type": "execute_result",
          "data": {
            "text/plain": [
              "'cuda'"
            ],
            "application/vnd.google.colaboratory.intrinsic+json": {
              "type": "string"
            }
          },
          "metadata": {},
          "execution_count": 3
        }
      ]
    },
    {
      "cell_type": "markdown",
      "source": [
        "## 1. Getting Data"
      ],
      "metadata": {
        "id": "CRr9CrmUgpgJ"
      }
    },
    {
      "cell_type": "code",
      "source": [
        "def download_data(source : str,\n",
        "                  destination : str,\n",
        "                  remove_source: bool = True):\n",
        "  \"\"\"Downloads a zipped dataset from source and unzips to destination.\n",
        "    Args:\n",
        "        source (str): A link to a zipped file containing data.\n",
        "        destination (str): A target directory to unzip data to.\n",
        "        remove_source (bool): Whether to remove the source after downloading and extracting.\n",
        "  \"\"\"\n",
        "  import os\n",
        "  import pathlib\n",
        "  import requests\n",
        "  import zipfile\n",
        "\n",
        "  data_path = pathlib.Path(\"data/\")\n",
        "  image_path = data_path / destination\n",
        "\n",
        "  if image_path.is_dir():\n",
        "    print(f\"[INFO] {image_path} directory exists, skipping download.\")\n",
        "  else:\n",
        "    print(f\"[INFO] Did not find {image_path} directory, creating one...\")\n",
        "    image_path.mkdir(parents = True, exist_ok = True)\n",
        "\n",
        "  target_file = pathlib.Path(source).name\n",
        "  with open(data_path /target_file, \"wb\") as f:\n",
        "    request = requests.get(source)\n",
        "    print(f\"[INFO] Downloading {target_file} from {source}...\")\n",
        "    f.write(request.content)\n",
        "\n",
        "  with zipfile.ZipFile(data_path / target_file, \"r\") as zip_ref:\n",
        "    print(f\"[INFO] Unzipping {target_file} data...\")\n",
        "    zip_ref.extractall(image_path)\n",
        "\n",
        "  if remove_source:\n",
        "            os.remove(data_path / target_file)\n",
        "\n",
        "  return image_path"
      ],
      "metadata": {
        "id": "_cJR8rqdgrFn"
      },
      "execution_count": 4,
      "outputs": []
    },
    {
      "cell_type": "code",
      "source": [
        "data_20_percent_path = download_data(source = \"https://github.com/mrdbourke/pytorch-deep-learning/raw/main/data/pizza_steak_sushi_20_percent.zip\",\n",
        "                                     destination = \"pizza_steak_sushi_20_percent\",\n",
        "                                     )\n",
        "data_20_percent_path"
      ],
      "metadata": {
        "colab": {
          "base_uri": "https://localhost:8080/"
        },
        "id": "3OgBKYR6grdU",
        "outputId": "5b3f3610-7d29-4f44-879e-fb3b183d0a44"
      },
      "execution_count": 5,
      "outputs": [
        {
          "output_type": "stream",
          "name": "stdout",
          "text": [
            "[INFO] Did not find data/pizza_steak_sushi_20_percent directory, creating one...\n",
            "[INFO] Downloading pizza_steak_sushi_20_percent.zip from https://github.com/mrdbourke/pytorch-deep-learning/raw/main/data/pizza_steak_sushi_20_percent.zip...\n",
            "[INFO] Unzipping pizza_steak_sushi_20_percent.zip data...\n"
          ]
        },
        {
          "output_type": "execute_result",
          "data": {
            "text/plain": [
              "PosixPath('data/pizza_steak_sushi_20_percent')"
            ]
          },
          "metadata": {},
          "execution_count": 5
        }
      ]
    },
    {
      "cell_type": "code",
      "source": [
        "train_dir = data_20_percent_path / \"train\"\n",
        "test_dir = data_20_percent_path / \"test\"\n",
        "train_dir, test_dir"
      ],
      "metadata": {
        "colab": {
          "base_uri": "https://localhost:8080/"
        },
        "id": "B9OpEL9mgrat",
        "outputId": "bb3f7a38-38e8-4ca3-f05a-030753a394e4"
      },
      "execution_count": 6,
      "outputs": [
        {
          "output_type": "execute_result",
          "data": {
            "text/plain": [
              "(PosixPath('data/pizza_steak_sushi_20_percent/train'),\n",
              " PosixPath('data/pizza_steak_sushi_20_percent/test'))"
            ]
          },
          "metadata": {},
          "execution_count": 6
        }
      ]
    },
    {
      "cell_type": "markdown",
      "source": [
        "## 2. FoodVision Mini model with EffNetB2"
      ],
      "metadata": {
        "id": "jmxkkG_ej3OD"
      }
    },
    {
      "cell_type": "markdown",
      "source": [
        "### 2.1 Creating a function to make an EffNetB2 feature extractor"
      ],
      "metadata": {
        "id": "AIBOZdbGj4eq"
      }
    },
    {
      "cell_type": "code",
      "source": [
        "def create_effnetb2_model(num_classes : int = 3, seed : int = 42):\n",
        "  weights = torchvision.models.EfficientNet_B2_Weights.DEFAULT\n",
        "  transforms = weights.transforms()\n",
        "  model = torchvision.models.efficientnet_b2(weights = weights)\n",
        "\n",
        "  for params in model.parameters():\n",
        "    params.requires_grad = False\n",
        "\n",
        "  torch.manual_seed(seed)\n",
        "  model.classifier = nn.Sequential(\n",
        "      nn.Dropout(p = 0.3),\n",
        "      nn.Linear(in_features = 1408, out_features = num_classes)\n",
        "  )\n",
        "\n",
        "  return model, transforms"
      ],
      "metadata": {
        "id": "eu-Zrmecj46H"
      },
      "execution_count": 7,
      "outputs": []
    },
    {
      "cell_type": "code",
      "source": [
        "effnetb2, effnetb2_transforms = create_effnetb2_model(num_classes=3, seed=42)"
      ],
      "metadata": {
        "colab": {
          "base_uri": "https://localhost:8080/"
        },
        "id": "Yd2ycTzEj7ME",
        "outputId": "79f79276-502e-4b58-f9d3-78ab4f198101"
      },
      "execution_count": 8,
      "outputs": [
        {
          "output_type": "stream",
          "name": "stderr",
          "text": [
            "Downloading: \"https://download.pytorch.org/models/efficientnet_b2_rwightman-c35c1473.pth\" to /root/.cache/torch/hub/checkpoints/efficientnet_b2_rwightman-c35c1473.pth\n",
            "100%|██████████| 35.2M/35.2M [00:00<00:00, 69.7MB/s]\n"
          ]
        }
      ]
    },
    {
      "cell_type": "code",
      "source": [
        "summary(model = effnetb2,\n",
        "        input_size = (1, 3, 224, 224),\n",
        "        col_names = [\"input_size\", \"output_size\", \"num_params\", \"trainable\"],\n",
        "        col_width = 20,\n",
        "        row_settings = [\"var_names\"])"
      ],
      "metadata": {
        "colab": {
          "base_uri": "https://localhost:8080/"
        },
        "id": "6Ct4cM4Aj85h",
        "outputId": "62d09a87-e177-44e1-b611-1722cd37a854"
      },
      "execution_count": 9,
      "outputs": [
        {
          "output_type": "execute_result",
          "data": {
            "text/plain": [
              "============================================================================================================================================\n",
              "Layer (type (var_name))                                      Input Shape          Output Shape         Param #              Trainable\n",
              "============================================================================================================================================\n",
              "EfficientNet (EfficientNet)                                  [1, 3, 224, 224]     [1, 3]               --                   Partial\n",
              "├─Sequential (features)                                      [1, 3, 224, 224]     [1, 1408, 7, 7]      --                   False\n",
              "│    └─Conv2dNormActivation (0)                              [1, 3, 224, 224]     [1, 32, 112, 112]    --                   False\n",
              "│    │    └─Conv2d (0)                                       [1, 3, 224, 224]     [1, 32, 112, 112]    (864)                False\n",
              "│    │    └─BatchNorm2d (1)                                  [1, 32, 112, 112]    [1, 32, 112, 112]    (64)                 False\n",
              "│    │    └─SiLU (2)                                         [1, 32, 112, 112]    [1, 32, 112, 112]    --                   --\n",
              "│    └─Sequential (1)                                        [1, 32, 112, 112]    [1, 16, 112, 112]    --                   False\n",
              "│    │    └─MBConv (0)                                       [1, 32, 112, 112]    [1, 16, 112, 112]    (1,448)              False\n",
              "│    │    └─MBConv (1)                                       [1, 16, 112, 112]    [1, 16, 112, 112]    (612)                False\n",
              "│    └─Sequential (2)                                        [1, 16, 112, 112]    [1, 24, 56, 56]      --                   False\n",
              "│    │    └─MBConv (0)                                       [1, 16, 112, 112]    [1, 24, 56, 56]      (6,004)              False\n",
              "│    │    └─MBConv (1)                                       [1, 24, 56, 56]      [1, 24, 56, 56]      (10,710)             False\n",
              "│    │    └─MBConv (2)                                       [1, 24, 56, 56]      [1, 24, 56, 56]      (10,710)             False\n",
              "│    └─Sequential (3)                                        [1, 24, 56, 56]      [1, 48, 28, 28]      --                   False\n",
              "│    │    └─MBConv (0)                                       [1, 24, 56, 56]      [1, 48, 28, 28]      (16,518)             False\n",
              "│    │    └─MBConv (1)                                       [1, 48, 28, 28]      [1, 48, 28, 28]      (43,308)             False\n",
              "│    │    └─MBConv (2)                                       [1, 48, 28, 28]      [1, 48, 28, 28]      (43,308)             False\n",
              "│    └─Sequential (4)                                        [1, 48, 28, 28]      [1, 88, 14, 14]      --                   False\n",
              "│    │    └─MBConv (0)                                       [1, 48, 28, 28]      [1, 88, 14, 14]      (50,300)             False\n",
              "│    │    └─MBConv (1)                                       [1, 88, 14, 14]      [1, 88, 14, 14]      (123,750)            False\n",
              "│    │    └─MBConv (2)                                       [1, 88, 14, 14]      [1, 88, 14, 14]      (123,750)            False\n",
              "│    │    └─MBConv (3)                                       [1, 88, 14, 14]      [1, 88, 14, 14]      (123,750)            False\n",
              "│    └─Sequential (5)                                        [1, 88, 14, 14]      [1, 120, 14, 14]     --                   False\n",
              "│    │    └─MBConv (0)                                       [1, 88, 14, 14]      [1, 120, 14, 14]     (149,158)            False\n",
              "│    │    └─MBConv (1)                                       [1, 120, 14, 14]     [1, 120, 14, 14]     (237,870)            False\n",
              "│    │    └─MBConv (2)                                       [1, 120, 14, 14]     [1, 120, 14, 14]     (237,870)            False\n",
              "│    │    └─MBConv (3)                                       [1, 120, 14, 14]     [1, 120, 14, 14]     (237,870)            False\n",
              "│    └─Sequential (6)                                        [1, 120, 14, 14]     [1, 208, 7, 7]       --                   False\n",
              "│    │    └─MBConv (0)                                       [1, 120, 14, 14]     [1, 208, 7, 7]       (301,406)            False\n",
              "│    │    └─MBConv (1)                                       [1, 208, 7, 7]       [1, 208, 7, 7]       (686,868)            False\n",
              "│    │    └─MBConv (2)                                       [1, 208, 7, 7]       [1, 208, 7, 7]       (686,868)            False\n",
              "│    │    └─MBConv (3)                                       [1, 208, 7, 7]       [1, 208, 7, 7]       (686,868)            False\n",
              "│    │    └─MBConv (4)                                       [1, 208, 7, 7]       [1, 208, 7, 7]       (686,868)            False\n",
              "│    └─Sequential (7)                                        [1, 208, 7, 7]       [1, 352, 7, 7]       --                   False\n",
              "│    │    └─MBConv (0)                                       [1, 208, 7, 7]       [1, 352, 7, 7]       (846,900)            False\n",
              "│    │    └─MBConv (1)                                       [1, 352, 7, 7]       [1, 352, 7, 7]       (1,888,920)          False\n",
              "│    └─Conv2dNormActivation (8)                              [1, 352, 7, 7]       [1, 1408, 7, 7]      --                   False\n",
              "│    │    └─Conv2d (0)                                       [1, 352, 7, 7]       [1, 1408, 7, 7]      (495,616)            False\n",
              "│    │    └─BatchNorm2d (1)                                  [1, 1408, 7, 7]      [1, 1408, 7, 7]      (2,816)              False\n",
              "│    │    └─SiLU (2)                                         [1, 1408, 7, 7]      [1, 1408, 7, 7]      --                   --\n",
              "├─AdaptiveAvgPool2d (avgpool)                                [1, 1408, 7, 7]      [1, 1408, 1, 1]      --                   --\n",
              "├─Sequential (classifier)                                    [1, 1408]            [1, 3]               --                   True\n",
              "│    └─Dropout (0)                                           [1, 1408]            [1, 1408]            --                   --\n",
              "│    └─Linear (1)                                            [1, 1408]            [1, 3]               4,227                True\n",
              "============================================================================================================================================\n",
              "Total params: 7,705,221\n",
              "Trainable params: 4,227\n",
              "Non-trainable params: 7,700,994\n",
              "Total mult-adds (Units.MEGABYTES): 657.64\n",
              "============================================================================================================================================\n",
              "Input size (MB): 0.60\n",
              "Forward/backward pass size (MB): 156.80\n",
              "Params size (MB): 30.82\n",
              "Estimated Total Size (MB): 188.22\n",
              "============================================================================================================================================"
            ]
          },
          "metadata": {},
          "execution_count": 9
        }
      ]
    },
    {
      "cell_type": "markdown",
      "source": [
        "### 2.2 Creating DataLoaders for EffNetB2"
      ],
      "metadata": {
        "id": "e5q9YjdAkVXV"
      }
    },
    {
      "cell_type": "code",
      "source": [
        "import os\n",
        "num_workers = os.cpu_count()\n",
        "def create_dataLoaders(train_dir: str,\n",
        "                       test_dir: str,\n",
        "                       transform : torchvision.transforms.Compose,\n",
        "                       batch_size: int,\n",
        "                       num_workers: int = num_workers):\n",
        "  train_dataset = torchvision.datasets.ImageFolder(train_dir, transform = transform)\n",
        "  test_dataset = torchvision.datasets.ImageFolder(test_dir, transform = transform)\n",
        "\n",
        "  classes = train_dataset.classes\n",
        "\n",
        "  train_dataLoader = torch.utils.data.DataLoader(dataset = train_dataset, batch_size = batch_size, shuffle = True, num_workers = num_workers, pin_memory = True)\n",
        "  test_dataLoader = torch.utils.data.DataLoader(dataset = test_dataset, batch_size = batch_size, shuffle = False, num_workers = num_workers, pin_memory = True)\n",
        "\n",
        "  return train_dataLoader, test_dataLoader, classes"
      ],
      "metadata": {
        "id": "S9MmjB4tkVF5"
      },
      "execution_count": 10,
      "outputs": []
    },
    {
      "cell_type": "code",
      "source": [
        "batch_size = 32\n",
        "effnetb2_train_dataLoader, effnetb2_test_dataLoader, effnetb2_classes = create_dataLoaders(train_dir, test_dir, effnetb2_transforms, batch_size = batch_size)"
      ],
      "metadata": {
        "id": "HGlEc7m3kamB"
      },
      "execution_count": 11,
      "outputs": []
    },
    {
      "cell_type": "code",
      "source": [
        "effnetb2_train_dataLoader, effnetb2_test_dataLoader, effnetb2_classes"
      ],
      "metadata": {
        "colab": {
          "base_uri": "https://localhost:8080/"
        },
        "id": "szq4iKYgkeVQ",
        "outputId": "2b16f512-9bd3-480a-ccd2-059656adb3ad"
      },
      "execution_count": 13,
      "outputs": [
        {
          "output_type": "execute_result",
          "data": {
            "text/plain": [
              "(<torch.utils.data.dataloader.DataLoader at 0x7b7a2d64a150>,\n",
              " <torch.utils.data.dataloader.DataLoader at 0x7b7b41ce7e50>,\n",
              " ['pizza', 'steak', 'sushi'])"
            ]
          },
          "metadata": {},
          "execution_count": 13
        }
      ]
    },
    {
      "cell_type": "markdown",
      "source": [
        "### 2.3 Training EffNetB2"
      ],
      "metadata": {
        "id": "ZPXHS-i6kuvE"
      }
    },
    {
      "cell_type": "code",
      "source": [
        "optimizer = torch.optim.Adam(effnetb2.parameters(), lr = 0.001)\n",
        "loss_fn = nn.CrossEntropyLoss()"
      ],
      "metadata": {
        "id": "qVMgOmdokfO6"
      },
      "execution_count": 14,
      "outputs": []
    },
    {
      "cell_type": "code",
      "source": [
        "from tqdm.auto import tqdm\n",
        "def train_step(model: torch.nn.Module,\n",
        "               dataLoader: torch.utils.data.DataLoader,\n",
        "               loss_fn: torch.nn.Module,\n",
        "               optimizer: torch.optim.Optimizer,\n",
        "               device: torch.device):\n",
        "  model.train()\n",
        "  train_loss, train_acc = 0, 0\n",
        "  for batch, (X, y) in enumerate(dataLoader):\n",
        "    X, y = X.to(device), y.to(device)\n",
        "    optimizer.zero_grad()\n",
        "    train_logits = model(X)\n",
        "    loss = loss_fn(train_logits, y)\n",
        "    train_loss += loss.item()\n",
        "    loss.backward()\n",
        "    optimizer.step()\n",
        "\n",
        "    train_preds = torch.argmax(torch.softmax(train_logits, dim = 1), dim = 1)\n",
        "    train_acc += (train_preds == y).sum().item() / len(train_logits)\n",
        "\n",
        "  train_loss = train_loss / len(dataLoader)\n",
        "  train_acc = train_acc / len(dataLoader)\n",
        "\n",
        "  return train_loss, train_acc\n",
        "\n",
        "def test_step(model: torch.nn.Module,\n",
        "              dataLoader: torch.utils.data.DataLoader,\n",
        "              loss_fn: torch.nn.Module,\n",
        "              device: torch.device\n",
        "              ):\n",
        "  model.eval()\n",
        "  test_loss, test_acc = 0, 0\n",
        "  with torch.inference_mode():\n",
        "    for batch, (X, y) in enumerate(dataLoader):\n",
        "      X, y = X.to(device), y.to(device)\n",
        "      test_logits = model(X)\n",
        "      loss = loss_fn(test_logits, y)\n",
        "      test_loss += loss.item()\n",
        "      test_preds = torch.argmax(test_logits, dim = 1)\n",
        "      test_acc += ((test_preds == y).sum().item() / len(test_preds))\n",
        "    test_loss = test_loss / len(dataLoader)\n",
        "    test_acc = test_acc / len(dataLoader)\n",
        "\n",
        "  return test_loss, test_acc\n",
        "\n",
        "def train_test(model : torch.nn.Module,\n",
        "               train_dataLoader : torch.utils.data.DataLoader,\n",
        "               test_dataLoader : torch.utils.data.DataLoader,\n",
        "               optimizer : torch.optim.Optimizer,\n",
        "               loss_fn : torch.nn.Module,\n",
        "               epochs : int,\n",
        "               device : torch.device):\n",
        "\n",
        "  results = {\"train_loss\": [],\n",
        "               \"train_acc\": [],\n",
        "               \"test_loss\": [],\n",
        "               \"test_acc\": []\n",
        "    }\n",
        "\n",
        "  model.to(device)\n",
        "\n",
        "  for epoch in tqdm(range(epochs)):\n",
        "    train_loss, train_acc = train_step(model = model,\n",
        "                                       dataLoader = train_dataLoader,\n",
        "                                       loss_fn = loss_fn,\n",
        "                                       optimizer = optimizer,\n",
        "                                       device = device\n",
        "                                       )\n",
        "    test_loss, test_acc = test_step(model = model,\n",
        "                                    dataLoader = test_dataLoader,\n",
        "                                    loss_fn = loss_fn,\n",
        "                                    device = device)\n",
        "\n",
        "    print(\n",
        "          f\"Epoch: {epoch+1} | \"\n",
        "          f\"train_loss: {train_loss:.4f} | \"\n",
        "          f\"train_acc: {train_acc:.4f} | \"\n",
        "          f\"test_loss: {test_loss:.4f} | \"\n",
        "          f\"test_acc: {test_acc:.4f}\"\n",
        "        )\n",
        "\n",
        "    results[\"train_loss\"].append(train_loss)\n",
        "    results[\"train_acc\"].append(train_acc)\n",
        "    results[\"test_loss\"].append(test_loss)\n",
        "    results[\"test_acc\"].append(test_acc)\n",
        "\n",
        "  return results"
      ],
      "metadata": {
        "id": "SHMBbn2kkwM_"
      },
      "execution_count": 15,
      "outputs": []
    },
    {
      "cell_type": "code",
      "source": [
        "effnetb2_results = train_test(model = effnetb2,\n",
        "           train_dataLoader = effnetb2_train_dataLoader,\n",
        "           test_dataLoader = effnetb2_test_dataLoader,\n",
        "           optimizer = optimizer,\n",
        "           loss_fn = loss_fn,\n",
        "           epochs = 10,\n",
        "           device = device)\n",
        "\n",
        "effnetb2_results"
      ],
      "metadata": {
        "colab": {
          "base_uri": "https://localhost:8080/",
          "height": 917,
          "referenced_widgets": [
            "33077f35783b4138baf276317fa8e601",
            "5f6e7021319d439db7aae80fbc387f19",
            "924b09dc35384ee798a8fbf5be02d6e4",
            "b631a694314f44e1bca4a74329ff160f",
            "2ec4a65f38af408c8797687e69c61ba5",
            "cba0dee922aa4f7a83444512edf61783",
            "30e0215058ce499f84869389e786cb23",
            "3af42a9e1dcb44c98cdb7fbfa6789a92",
            "1d6e077ca2fd4e5ca81ec94db26d52f2",
            "caccf288602b4ac68048098ff902459f",
            "ed1dfa003b86465389f8f6007c9d4ec3"
          ]
        },
        "id": "ahK6P9MIkyjG",
        "outputId": "ace104cf-4e42-49e4-c729-0e03c2c5833a"
      },
      "execution_count": 16,
      "outputs": [
        {
          "output_type": "display_data",
          "data": {
            "text/plain": [
              "  0%|          | 0/10 [00:00<?, ?it/s]"
            ],
            "application/vnd.jupyter.widget-view+json": {
              "version_major": 2,
              "version_minor": 0,
              "model_id": "33077f35783b4138baf276317fa8e601"
            }
          },
          "metadata": {}
        },
        {
          "output_type": "stream",
          "name": "stdout",
          "text": [
            "Epoch: 1 | train_loss: 0.9677 | train_acc: 0.5417 | test_loss: 0.7279 | test_acc: 0.9437\n",
            "Epoch: 2 | train_loss: 0.7054 | train_acc: 0.8521 | test_loss: 0.5700 | test_acc: 0.9500\n",
            "Epoch: 3 | train_loss: 0.5679 | train_acc: 0.8771 | test_loss: 0.4896 | test_acc: 0.9256\n",
            "Epoch: 4 | train_loss: 0.5103 | train_acc: 0.8792 | test_loss: 0.4172 | test_acc: 0.9443\n",
            "Epoch: 5 | train_loss: 0.4319 | train_acc: 0.8979 | test_loss: 0.3750 | test_acc: 0.9597\n",
            "Epoch: 6 | train_loss: 0.4296 | train_acc: 0.8958 | test_loss: 0.3443 | test_acc: 0.9318\n",
            "Epoch: 7 | train_loss: 0.3576 | train_acc: 0.9271 | test_loss: 0.3292 | test_acc: 0.9597\n",
            "Epoch: 8 | train_loss: 0.3568 | train_acc: 0.8771 | test_loss: 0.3425 | test_acc: 0.9290\n",
            "Epoch: 9 | train_loss: 0.3761 | train_acc: 0.8479 | test_loss: 0.2918 | test_acc: 0.9381\n",
            "Epoch: 10 | train_loss: 0.3111 | train_acc: 0.9167 | test_loss: 0.2698 | test_acc: 0.9597\n"
          ]
        },
        {
          "output_type": "execute_result",
          "data": {
            "text/plain": [
              "{'train_loss': [0.9677491227785746,\n",
              "  0.7054300586382548,\n",
              "  0.5679320971171061,\n",
              "  0.5103442589441936,\n",
              "  0.43191425999005634,\n",
              "  0.429578572511673,\n",
              "  0.35761584440867106,\n",
              "  0.35679728388786314,\n",
              "  0.3761371195316315,\n",
              "  0.31106174091498057],\n",
              " 'train_acc': [0.5416666666666666,\n",
              "  0.8520833333333333,\n",
              "  0.8770833333333333,\n",
              "  0.8791666666666667,\n",
              "  0.8979166666666667,\n",
              "  0.8958333333333334,\n",
              "  0.9270833333333334,\n",
              "  0.8770833333333333,\n",
              "  0.8479166666666667,\n",
              "  0.9166666666666666],\n",
              " 'test_loss': [0.7278638362884522,\n",
              "  0.5699584007263183,\n",
              "  0.48962814211845396,\n",
              "  0.41724650263786317,\n",
              "  0.374985808134079,\n",
              "  0.34429955780506133,\n",
              "  0.3292296648025513,\n",
              "  0.34248256385326387,\n",
              "  0.2917785316705704,\n",
              "  0.2698476403951645],\n",
              " 'test_acc': [0.94375,\n",
              "  0.95,\n",
              "  0.9255681818181818,\n",
              "  0.9443181818181818,\n",
              "  0.959659090909091,\n",
              "  0.9318181818181819,\n",
              "  0.959659090909091,\n",
              "  0.9289772727272727,\n",
              "  0.9380681818181819,\n",
              "  0.959659090909091]}"
            ]
          },
          "metadata": {},
          "execution_count": 16
        }
      ]
    }
  ]
}